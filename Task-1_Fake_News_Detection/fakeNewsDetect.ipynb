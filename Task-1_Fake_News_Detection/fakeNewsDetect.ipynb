{
  "cells": [
    {
      "cell_type": "code",
      "execution_count": 1,
      "id": "c4d4988b",
      "metadata": {
        "id": "c4d4988b"
      },
      "outputs": [],
      "source": [
        "import pandas as pd\n",
        "import numpy as np\n",
        "import seaborn as sns\n",
        "import matplotlib.pyplot as plt\n",
        "from sklearn.model_selection import train_test_split\n",
        "from sklearn.metrics import accuracy_score\n",
        "from sklearn.metrics import classification_report\n",
        "import re\n",
        "import string"
      ]
    },
    {
      "cell_type": "code",
      "execution_count": 66,
      "id": "lsM6uMPVTebx",
      "metadata": {
        "colab": {
          "base_uri": "https://localhost:8080/"
        },
        "id": "lsM6uMPVTebx",
        "outputId": "d1c47880-612f-403a-b520-8570ea41d2b7"
      },
      "outputs": [
        {
          "name": "stdout",
          "output_type": "stream",
          "text": [
            "Drive already mounted at /content/drive; to attempt to forcibly remount, call drive.mount(\"/content/drive\", force_remount=True).\n"
          ]
        }
      ],
      "source": [
        "from google.colab import drive\n",
        "drive.mount('/content/drive')"
      ]
    },
    {
      "cell_type": "code",
      "execution_count": 2,
      "id": "3005c0d1",
      "metadata": {
        "id": "3005c0d1"
      },
      "outputs": [],
      "source": [
        "# Load the data\n",
        "data_fake = pd.read_csv('Fake.csv')\n",
        "data_true = pd.read_csv('True.csv')\n",
        "\n",
        "# Add labels to the data\n",
        "data_fake['label'] = 0  # Fake news\n",
        "data_true['label'] = 1  # Real news\n"
      ]
    },
    {
      "cell_type": "code",
      "execution_count": 3,
      "id": "55b19ca2",
      "metadata": {
        "colab": {
          "base_uri": "https://localhost:8080/"
        },
        "id": "55b19ca2",
        "outputId": "5b1f5036-2a20-4505-f6c8-02eb8b9a8938"
      },
      "outputs": [
        {
          "data": {
            "text/plain": [
              "((23481, 5), (21417, 5))"
            ]
          },
          "execution_count": 3,
          "metadata": {},
          "output_type": "execute_result"
        }
      ],
      "source": [
        "data_fake.shape, data_true.shape"
      ]
    },
    {
      "cell_type": "code",
      "execution_count": 4,
      "id": "118b273e",
      "metadata": {
        "colab": {
          "base_uri": "https://localhost:8080/",
          "height": 206
        },
        "id": "118b273e",
        "outputId": "1baef443-7f85-4706-c803-de20a9a6e0a8"
      },
      "outputs": [
        {
          "data": {
            "text/html": [
              "<div>\n",
              "<style scoped>\n",
              "    .dataframe tbody tr th:only-of-type {\n",
              "        vertical-align: middle;\n",
              "    }\n",
              "\n",
              "    .dataframe tbody tr th {\n",
              "        vertical-align: top;\n",
              "    }\n",
              "\n",
              "    .dataframe thead th {\n",
              "        text-align: right;\n",
              "    }\n",
              "</style>\n",
              "<table border=\"1\" class=\"dataframe\">\n",
              "  <thead>\n",
              "    <tr style=\"text-align: right;\">\n",
              "      <th></th>\n",
              "      <th>text</th>\n",
              "      <th>label</th>\n",
              "    </tr>\n",
              "  </thead>\n",
              "  <tbody>\n",
              "    <tr>\n",
              "      <th>0</th>\n",
              "      <td>Donald Trump just couldn t wish all Americans ...</td>\n",
              "      <td>0</td>\n",
              "    </tr>\n",
              "    <tr>\n",
              "      <th>1</th>\n",
              "      <td>House Intelligence Committee Chairman Devin Nu...</td>\n",
              "      <td>0</td>\n",
              "    </tr>\n",
              "    <tr>\n",
              "      <th>2</th>\n",
              "      <td>On Friday, it was revealed that former Milwauk...</td>\n",
              "      <td>0</td>\n",
              "    </tr>\n",
              "    <tr>\n",
              "      <th>3</th>\n",
              "      <td>On Christmas day, Donald Trump announced that ...</td>\n",
              "      <td>0</td>\n",
              "    </tr>\n",
              "    <tr>\n",
              "      <th>4</th>\n",
              "      <td>Pope Francis used his annual Christmas Day mes...</td>\n",
              "      <td>0</td>\n",
              "    </tr>\n",
              "  </tbody>\n",
              "</table>\n",
              "</div>"
            ],
            "text/plain": [
              "                                                text  label\n",
              "0  Donald Trump just couldn t wish all Americans ...      0\n",
              "1  House Intelligence Committee Chairman Devin Nu...      0\n",
              "2  On Friday, it was revealed that former Milwauk...      0\n",
              "3  On Christmas day, Donald Trump announced that ...      0\n",
              "4  Pope Francis used his annual Christmas Day mes...      0"
            ]
          },
          "execution_count": 4,
          "metadata": {},
          "output_type": "execute_result"
        }
      ],
      "source": [
        "# Concatenate the two datasets to make it one.\n",
        "data = pd.concat([data_fake,data_true],axis=0)\n",
        "data = data.drop([\"title\", \"subject\", \"date\"], axis=1)\n",
        "data.head()"
      ]
    },
    {
      "cell_type": "code",
      "execution_count": 5,
      "id": "c5fd5499",
      "metadata": {
        "colab": {
          "base_uri": "https://localhost:8080/",
          "height": 540
        },
        "id": "c5fd5499",
        "outputId": "3382d712-798b-44ad-d8ce-39e729322cda"
      },
      "outputs": [
        {
          "name": "stdout",
          "output_type": "stream",
          "text": [
            "label\n",
            "0    23481\n",
            "1    21417\n",
            "Name: text, dtype: int64\n",
            "0 = Fake news\n",
            "1 = True news\n"
          ]
        },
        {
          "data": {
            "image/png": "[encoded data removed]",
            "text/plain": [
              "<Figure size 640x480 with 1 Axes>"
            ]
          },
          "metadata": {},
          "output_type": "display_data"
        }
      ],
      "source": [
        "#Pie chart representing the number of fake news and True news datasets\n",
        "print(data.groupby(['label'])['text'].count())\n",
        "print(\"0 = Fake news\\n1 = True news\")\n",
        "data.groupby(['label'])['text'].count().plot(kind=\"pie\")\n",
        "plt.title(\"Fake news and True News\",size=20)\n",
        "plt.show()"
      ]
    },
    {
      "cell_type": "code",
      "execution_count": 6,
      "id": "b54d6c2d",
      "metadata": {
        "colab": {
          "base_uri": "https://localhost:8080/",
          "height": 363
        },
        "id": "b54d6c2d",
        "outputId": "c608a6a8-e83f-447c-dbe4-e6ad4d2cecd7",
        "scrolled": true
      },
      "outputs": [
        {
          "data": {
            "text/html": [
              "<div>\n",
              "<style scoped>\n",
              "    .dataframe tbody tr th:only-of-type {\n",
              "        vertical-align: middle;\n",
              "    }\n",
              "\n",
              "    .dataframe tbody tr th {\n",
              "        vertical-align: top;\n",
              "    }\n",
              "\n",
              "    .dataframe thead th {\n",
              "        text-align: right;\n",
              "    }\n",
              "</style>\n",
              "<table border=\"1\" class=\"dataframe\">\n",
              "  <thead>\n",
              "    <tr style=\"text-align: right;\">\n",
              "      <th></th>\n",
              "      <th>text</th>\n",
              "      <th>label</th>\n",
              "    </tr>\n",
              "  </thead>\n",
              "  <tbody>\n",
              "    <tr>\n",
              "      <th>19341</th>\n",
              "      <td>Ownage. pic.twitter.com/yznLKcYiMW  Paul Josep...</td>\n",
              "      <td>0</td>\n",
              "    </tr>\n",
              "    <tr>\n",
              "      <th>7794</th>\n",
              "      <td>WASHINGTON (Reuters) - Lockheed Martin Corp un...</td>\n",
              "      <td>1</td>\n",
              "    </tr>\n",
              "    <tr>\n",
              "      <th>12551</th>\n",
              "      <td>LONDON (Reuters) - British police on Monday sa...</td>\n",
              "      <td>1</td>\n",
              "    </tr>\n",
              "    <tr>\n",
              "      <th>463</th>\n",
              "      <td>Donald Trump claimed on Wednesday morning that...</td>\n",
              "      <td>0</td>\n",
              "    </tr>\n",
              "    <tr>\n",
              "      <th>14922</th>\n",
              "      <td>BEIRUT (Reuters) - The Syrian Observatory for ...</td>\n",
              "      <td>1</td>\n",
              "    </tr>\n",
              "    <tr>\n",
              "      <th>12515</th>\n",
              "      <td>BANGKOK (Reuters) - No trade takes place betwe...</td>\n",
              "      <td>1</td>\n",
              "    </tr>\n",
              "    <tr>\n",
              "      <th>14501</th>\n",
              "      <td>BEIRUT (Reuters) - Lebanon s Foreign Minister ...</td>\n",
              "      <td>1</td>\n",
              "    </tr>\n",
              "    <tr>\n",
              "      <th>13101</th>\n",
              "      <td>BERLIN (Reuters) - Police raided apartments ac...</td>\n",
              "      <td>1</td>\n",
              "    </tr>\n",
              "    <tr>\n",
              "      <th>13473</th>\n",
              "      <td>LONDON (Reuters) - Net migration to Britain fe...</td>\n",
              "      <td>1</td>\n",
              "    </tr>\n",
              "    <tr>\n",
              "      <th>2570</th>\n",
              "      <td>WASHINGTON (Reuters) - Long-delayed legislatio...</td>\n",
              "      <td>1</td>\n",
              "    </tr>\n",
              "  </tbody>\n",
              "</table>\n",
              "</div>"
            ],
            "text/plain": [
              "                                                    text  label\n",
              "19341  Ownage. pic.twitter.com/yznLKcYiMW  Paul Josep...      0\n",
              "7794   WASHINGTON (Reuters) - Lockheed Martin Corp un...      1\n",
              "12551  LONDON (Reuters) - British police on Monday sa...      1\n",
              "463    Donald Trump claimed on Wednesday morning that...      0\n",
              "14922  BEIRUT (Reuters) - The Syrian Observatory for ...      1\n",
              "12515  BANGKOK (Reuters) - No trade takes place betwe...      1\n",
              "14501  BEIRUT (Reuters) - Lebanon s Foreign Minister ...      1\n",
              "13101  BERLIN (Reuters) - Police raided apartments ac...      1\n",
              "13473  LONDON (Reuters) - Net migration to Britain fe...      1\n",
              "2570   WASHINGTON (Reuters) - Long-delayed legislatio...      1"
            ]
          },
          "execution_count": 6,
          "metadata": {},
          "output_type": "execute_result"
        }
      ],
      "source": [
        "#Shuffle the dataset to make the dataset bias free towards one particular label\n",
        "data = data.sample(frac=1)\n",
        "data.head(10)"
      ]
    },
    {
      "cell_type": "code",
      "execution_count": 7,
      "id": "72883953",
      "metadata": {
        "id": "72883953"
      },
      "outputs": [
        {
          "name": "stderr",
          "output_type": "stream",
          "text": [
            "<>:4: SyntaxWarning: invalid escape sequence '\\['\n",
            "<>:6: SyntaxWarning: invalid escape sequence '\\S'\n",
            "<>:10: SyntaxWarning: invalid escape sequence '\\ '\n",
            "<>:4: SyntaxWarning: invalid escape sequence '\\['\n",
            "<>:6: SyntaxWarning: invalid escape sequence '\\S'\n",
            "<>:10: SyntaxWarning: invalid escape sequence '\\ '\n",
            "C:\\Users\\baran\\AppData\\Local\\Temp\\ipykernel_14348\\2471521144.py:4: SyntaxWarning: invalid escape sequence '\\['\n",
            "  text = re.sub ('\\[.*?\\]','',text)\n",
            "C:\\Users\\baran\\AppData\\Local\\Temp\\ipykernel_14348\\2471521144.py:6: SyntaxWarning: invalid escape sequence '\\S'\n",
            "  text = re.sub('https?://\\S+ | www\\.\\S+','', text)\n",
            "C:\\Users\\baran\\AppData\\Local\\Temp\\ipykernel_14348\\2471521144.py:10: SyntaxWarning: invalid escape sequence '\\ '\n",
            "  text = re.sub('\\ w*\\d\\w*', '', text)\n"
          ]
        }
      ],
      "source": [
        "# Function to apply operation on the dataset to clean the unnecessary tokens\n",
        "def process_word(text):\n",
        "  text = text.lower()\n",
        "  text = re.sub ('\\[.*?\\]','',text)\n",
        "  text= re.sub(\"\\\\W\", \" \", text)\n",
        "  text = re.sub('https?://\\S+ | www\\.\\S+','', text)\n",
        "  text = re.sub ('<.*?>+','', text)\n",
        "  text = re.sub ('[%s] ' % re.escape(string.punctuation), '', text)\n",
        "  text = re.sub('\\n', '', text)\n",
        "  text = re.sub('\\ w*\\d\\w*', '', text)\n",
        "  return text"
      ]
    },
    {
      "cell_type": "code",
      "execution_count": 8,
      "id": "KuQj1kfSQpmz",
      "metadata": {
        "id": "KuQj1kfSQpmz"
      },
      "outputs": [],
      "source": [
        "data[\"text\"] = data[\"text\"].apply(process_word)"
      ]
    },
    {
      "cell_type": "code",
      "execution_count": 9,
      "id": "73eFIpMWWGVB",
      "metadata": {
        "colab": {
          "base_uri": "https://localhost:8080/",
          "height": 424
        },
        "id": "73eFIpMWWGVB",
        "outputId": "b7cc3d9c-ae81-453a-b2a9-ad5991d71f5d"
      },
      "outputs": [
        {
          "data": {
            "text/html": [
              "<div>\n",
              "<style scoped>\n",
              "    .dataframe tbody tr th:only-of-type {\n",
              "        vertical-align: middle;\n",
              "    }\n",
              "\n",
              "    .dataframe tbody tr th {\n",
              "        vertical-align: top;\n",
              "    }\n",
              "\n",
              "    .dataframe thead th {\n",
              "        text-align: right;\n",
              "    }\n",
              "</style>\n",
              "<table border=\"1\" class=\"dataframe\">\n",
              "  <thead>\n",
              "    <tr style=\"text-align: right;\">\n",
              "      <th></th>\n",
              "      <th>text</th>\n",
              "      <th>label</th>\n",
              "    </tr>\n",
              "  </thead>\n",
              "  <tbody>\n",
              "    <tr>\n",
              "      <th>19341</th>\n",
              "      <td>ownage  pic twitter com yznlkcyimw  paul josep...</td>\n",
              "      <td>0</td>\n",
              "    </tr>\n",
              "    <tr>\n",
              "      <th>7794</th>\n",
              "      <td>washington  reuters    lockheed martin corp un...</td>\n",
              "      <td>1</td>\n",
              "    </tr>\n",
              "    <tr>\n",
              "      <th>12551</th>\n",
              "      <td>london  reuters    british police on monday sa...</td>\n",
              "      <td>1</td>\n",
              "    </tr>\n",
              "    <tr>\n",
              "      <th>463</th>\n",
              "      <td>donald trump claimed on wednesday morning that...</td>\n",
              "      <td>0</td>\n",
              "    </tr>\n",
              "    <tr>\n",
              "      <th>14922</th>\n",
              "      <td>beirut  reuters    the syrian observatory for ...</td>\n",
              "      <td>1</td>\n",
              "    </tr>\n",
              "    <tr>\n",
              "      <th>...</th>\n",
              "      <td>...</td>\n",
              "      <td>...</td>\n",
              "    </tr>\n",
              "    <tr>\n",
              "      <th>8955</th>\n",
              "      <td>as president obama rolls out executive orders ...</td>\n",
              "      <td>0</td>\n",
              "    </tr>\n",
              "    <tr>\n",
              "      <th>11015</th>\n",
              "      <td>this is a shocker  richard dreyfuss was on tuc...</td>\n",
              "      <td>0</td>\n",
              "    </tr>\n",
              "    <tr>\n",
              "      <th>10297</th>\n",
              "      <td>you just can t make this stuff up  does anyone...</td>\n",
              "      <td>0</td>\n",
              "    </tr>\n",
              "    <tr>\n",
              "      <th>9960</th>\n",
              "      <td>two days ago  cher  a leftist agitator  and tr...</td>\n",
              "      <td>0</td>\n",
              "    </tr>\n",
              "    <tr>\n",
              "      <th>7380</th>\n",
              "      <td>washington  reuters    u s  defense secretary ...</td>\n",
              "      <td>1</td>\n",
              "    </tr>\n",
              "  </tbody>\n",
              "</table>\n",
              "<p>44898 rows × 2 columns</p>\n",
              "</div>"
            ],
            "text/plain": [
              "                                                    text  label\n",
              "19341  ownage  pic twitter com yznlkcyimw  paul josep...      0\n",
              "7794   washington  reuters    lockheed martin corp un...      1\n",
              "12551  london  reuters    british police on monday sa...      1\n",
              "463    donald trump claimed on wednesday morning that...      0\n",
              "14922  beirut  reuters    the syrian observatory for ...      1\n",
              "...                                                  ...    ...\n",
              "8955   as president obama rolls out executive orders ...      0\n",
              "11015  this is a shocker  richard dreyfuss was on tuc...      0\n",
              "10297  you just can t make this stuff up  does anyone...      0\n",
              "9960   two days ago  cher  a leftist agitator  and tr...      0\n",
              "7380   washington  reuters    u s  defense secretary ...      1\n",
              "\n",
              "[44898 rows x 2 columns]"
            ]
          },
          "execution_count": 9,
          "metadata": {},
          "output_type": "execute_result"
        }
      ],
      "source": [
        "data"
      ]
    },
    {
      "cell_type": "code",
      "execution_count": 10,
      "id": "74ba252a",
      "metadata": {
        "colab": {
          "base_uri": "https://localhost:8080/"
        },
        "id": "74ba252a",
        "outputId": "49b3e6a2-c9a7-4748-9f5a-c6e0620c0ecb"
      },
      "outputs": [
        {
          "data": {
            "text/plain": [
              "text     0\n",
              "label    0\n",
              "dtype: int64"
            ]
          },
          "execution_count": 10,
          "metadata": {},
          "output_type": "execute_result"
        }
      ],
      "source": [
        "#Checking if any NULL value\n",
        "data.isnull().sum()"
      ]
    },
    {
      "cell_type": "code",
      "execution_count": 11,
      "id": "bmInN6TyQDpy",
      "metadata": {
        "id": "bmInN6TyQDpy"
      },
      "outputs": [],
      "source": [
        "#Removing the NULL values (if any)\n",
        "data = data.fillna(' ')"
      ]
    },
    {
      "cell_type": "code",
      "execution_count": 12,
      "id": "6ebe0671",
      "metadata": {
        "id": "6ebe0671"
      },
      "outputs": [],
      "source": [
        "x = data['text']\n",
        "y = data['label']\n",
        "\n",
        "#Splitting the datasets for training and evaluation.\n",
        "x_train, x_test, y_train, y_test = train_test_split(x,y, test_size= 0.2, stratify=y, random_state=2)"
      ]
    },
    {
      "cell_type": "code",
      "execution_count": 13,
      "id": "423b6d39",
      "metadata": {
        "id": "423b6d39"
      },
      "outputs": [],
      "source": [
        "from sklearn. feature_extraction.text import TfidfVectorizer\n",
        "\n",
        "# Creating the TF-IFD Vectorizer to convert the strings and words into their respective weight vectors.\n",
        "vec = TfidfVectorizer()\n",
        "xv_train = vec.fit_transform(x_train)\n",
        "xv_test = vec. transform(x_test)"
      ]
    },
    {
      "cell_type": "code",
      "execution_count": 14,
      "id": "2e4f3013",
      "metadata": {
        "colab": {
          "base_uri": "https://localhost:8080/"
        },
        "id": "2e4f3013",
        "outputId": "486d34f9-2049-4a95-d846-5bff695ec8b7"
      },
      "outputs": [
        {
          "name": "stdout",
          "output_type": "stream",
          "text": [
            "Training Accuracy: 0.9999721588061696\n"
          ]
        }
      ],
      "source": [
        "from sklearn.ensemble import RandomForestClassifier\n",
        "from sklearn.model_selection import train_test_split\n",
        "\n",
        "# Using Random Forest to classify the dataset on the basis of True and Fake\n",
        "RF = RandomForestClassifier(random_state=0)\n",
        "RF.fit(xv_train, y_train)\n",
        "train_accuracy = RF.score(xv_train, y_train)\n",
        "print(\"Training Accuracy:\", train_accuracy)"
      ]
    },
    {
      "cell_type": "code",
      "execution_count": 15,
      "id": "d17b9ff4",
      "metadata": {
        "id": "d17b9ff4"
      },
      "outputs": [],
      "source": [
        "# Running the Evaluation\n",
        "pred_y = RF.predict(xv_test)"
      ]
    },
    {
      "cell_type": "code",
      "execution_count": 16,
      "id": "050136f4",
      "metadata": {
        "colab": {
          "base_uri": "https://localhost:8080/"
        },
        "id": "050136f4",
        "outputId": "4a0587d9-99ee-4cd8-f681-6e4d54c6e885"
      },
      "outputs": [
        {
          "name": "stdout",
          "output_type": "stream",
          "text": [
            "              precision    recall  f1-score   support\n",
            "\n",
            "           0       0.99      0.99      0.99      4696\n",
            "           1       0.99      0.99      0.99      4284\n",
            "\n",
            "    accuracy                           0.99      8980\n",
            "   macro avg       0.99      0.99      0.99      8980\n",
            "weighted avg       0.99      0.99      0.99      8980\n",
            "\n"
          ]
        }
      ],
      "source": [
        "# Classification Report\n",
        "print(classification_report(y_test, pred_y))"
      ]
    },
    {
      "cell_type": "code",
      "execution_count": 17,
      "id": "07797031",
      "metadata": {
        "colab": {
          "base_uri": "https://localhost:8080/",
          "height": 482
        },
        "id": "07797031",
        "outputId": "dfb63b2a-c473-4c69-b6e4-d2f8b28024f0"
      },
      "outputs": [
        {
          "name": "stdout",
          "output_type": "stream",
          "text": [
            "[[4657   39]\n",
            " [  54 4230]]\n"
          ]
        },
        {
          "data": {
            "text/plain": [
              "<Axes: >"
            ]
          },
          "execution_count": 17,
          "metadata": {},
          "output_type": "execute_result"
        },
        {
          "data": {
            "image/png": "[encoded data removed]",
            "text/plain": [
              "<Figure size 640x480 with 2 Axes>"
            ]
          },
          "metadata": {},
          "output_type": "display_data"
        }
      ],
      "source": [
        "from sklearn.metrics import confusion_matrix, accuracy_score\n",
        "import seaborn as sns\n",
        "\n",
        "# Creating the Confusion matrix for the evaluation\n",
        "cm = confusion_matrix(y_test, pred_y)\n",
        "print(cm)\n",
        "\n",
        "sns.heatmap(cm, cmap=\"Blues\", annot=True)"
      ]
    },
    {
      "cell_type": "code",
      "execution_count": 18,
      "id": "3e3ddef0",
      "metadata": {
        "id": "3e3ddef0"
      },
      "outputs": [],
      "source": [
        "# Function for predicting Label\n",
        "def prediction_label(classification):\n",
        "    if classification == 0:\n",
        "        return \"FAKE News\"\n",
        "\n",
        "    elif classification == 1:\n",
        "        return \"TRUE News\"\n",
        "    else:\n",
        "        return \"Unknown\"\n",
        "\n",
        "\n",
        "# Function for predicting the input news\n",
        "def predict_news(news_article):\n",
        "    news = {\"text\": [news_article]}\n",
        "    news = pd.DataFrame(news)\n",
        "    news[\"text\"] = news[\"text\"].apply(process_word)\n",
        "    test_news = news[\"text\"]\n",
        "\n",
        "    vec_news = vec.transform(test_news)\n",
        "\n",
        "    pred_y = RF.predict(vec_news)\n",
        "\n",
        "\n",
        "    RF_classification = pred_y[0]\n",
        "\n",
        "    prediction_result = prediction_label(RF_classification)\n",
        "    return f\"Prediction Result: {prediction_result}\"\n"
      ]
    },
    {
      "cell_type": "code",
      "execution_count": 22,
      "id": "nsSrZguiT5IH",
      "metadata": {
        "colab": {
          "base_uri": "https://localhost:8080/",
          "height": 73
        },
        "id": "nsSrZguiT5IH",
        "outputId": "f22e5ecc-6112-48ee-8e51-0044be74de57"
      },
      "outputs": [
        {
          "data": {
            "text/plain": [
              "'Prediction Result: TRUE News'"
            ]
          },
          "execution_count": 22,
          "metadata": {},
          "output_type": "execute_result"
        }
      ],
      "source": [
        "# User Input\n",
        "# Enter the complete news information.\n",
        "user_input = input(\"Enter your news article: \")\n",
        "predict_news(user_input)"
      ]
    },
    {
      "cell_type": "code",
      "execution_count": null,
      "id": "Iy8qdGOcWr05",
      "metadata": {
        "id": "Iy8qdGOcWr05"
      },
      "outputs": [],
      "source": [
        "# TRY OUT YOURSELF\n",
        "\n",
        "\n",
        "# ***FAKE NEWS***\n",
        "\n",
        "# Title: New Study Claims Eating Chocolate Every Day Can Extend Lifespan by 10 Years\n",
        "# Text:\n",
        "# A new study published in a prestigious medical journal suggests that consuming chocolate daily can extend lifespan by up to 10 years. Researchers claim that compounds found in chocolate have anti-aging properties that can reduce the risk of heart disease, stroke, and even cancer. The study, conducted over 10 years with thousands of participants, purportedly found that those who ate chocolate daily lived significantly longer and had fewer health issues compared to those who did not. Health experts caution that while chocolate can be enjoyed in moderation, such extravagant claims should be approached with skepticism and verified through rigorous scientific research.\n",
        "\n",
        "# Title: Apple to Release Mind-Reading iPhone Next Year\n",
        "# Text:\n",
        "# In an unprecedented technological breakthrough, Apple has announced plans to release a mind-reading iPhone next year. The new device, dubbed the iPhone 15X, is said to feature advanced neural sensors that can interpret users' thoughts and convert them into actions on the phone. This revolutionary technology will allow users to compose messages, browse the internet, and control apps simply by thinking about what they want to do. Apple's CEO Tim Cook claimed that the mind-reading capability will transform the way people interact with technology, making traditional touchscreens obsolete. While the announcement has generated immense excitement, experts have raised concerns about privacy and the potential for misuse of such a powerful tool.\n",
        "\n",
        "\n",
        "#######################################################################################################################################\n",
        "\n",
        "# ***TRUE NEWS****\n",
        "\n",
        "# Title: United Nations Report Finds Global Hunger on the Rise Due to Economic Challenges and Conflicts\n",
        "# Text:\n",
        "# A recent report by the United Nations has highlighted a concerning trend of increasing global hunger, exacerbated by economic challenges and conflicts in various regions. According to the report, an estimated 811 million people worldwide faced chronic food deprivation in 2021, up from 783 million in the previous year. The COVID-19 pandemic has further exacerbated food insecurity, with disruptions to food supply chains and economic downturns impacting vulnerable populations. The report calls for urgent international cooperation and support to address the root causes of hunger, including poverty alleviation, conflict resolution, and sustainable development initiatives.\n",
        "\n",
        "\n",
        "\n",
        "# Title: Global Agreement Reached to Protect Ocean Biodiversity\n",
        "# Text:\n",
        "# After years of negotiations, over 190 countries have reached a landmark agreement to protect ocean biodiversity. The treaty, known as the High Seas Biodiversity Treaty, aims to establish marine protected areas, regulate fishing practices, and promote the sustainable use of ocean resources. The agreement is part of broader efforts to combat the negative impacts of climate change, overfishing, and pollution on marine ecosystems. Conservationists have hailed the treaty as a significant step forward in preserving the health of the world's oceans and ensuring the survival of countless marine species. The treaty will be implemented through coordinated efforts at both national and international levels, with regular assessments to monitor progress.\n",
        "\n",
        "\n",
        "\n",
        "\n"
      ]
    }
  ],
  "metadata": {
    "colab": {
      "provenance": []
    },
    "kernelspec": {
      "display_name": "Python 3 (ipykernel)",
      "language": "python",
      "name": "python3"
    },
    "language_info": {
      "codemirror_mode": {
        "name": "ipython",
        "version": 3
      },
      "file_extension": ".py",
      "mimetype": "text/x-python",
      "name": "python",
      "nbconvert_exporter": "python",
      "pygments_lexer": "ipython3",
      "version": "3.12.2"
    }
  },
  "nbformat": 4,
  "nbformat_minor": 5
}
